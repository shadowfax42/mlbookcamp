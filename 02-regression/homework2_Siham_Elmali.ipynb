{
 "cells": [
  {
   "cell_type": "markdown",
   "metadata": {},
   "source": [
    "### Dataset\n",
    "\n",
    "In this homework, we will use the California Housing Prices from [Kaggle](https://www.kaggle.com/datasets/camnugent/california-housing-prices).\n",
    "\n",
    "### Objective\n",
    "\n",
    "**The goal of this homework is to create a regression model for predicting housing prices (column `'median_house_value'`).**\n",
    "\n",
    "\n",
    "### EDA\n",
    "\n",
    "* Load the data.\n",
    "* Look at the `median_house_value` variable. Does it have a long tail? "
   ]
  },
  {
   "cell_type": "code",
   "execution_count": null,
   "metadata": {},
   "outputs": [],
   "source": [
    "# import packages\n",
    "import pandas as pd\n",
    "import numpy as np\n",
    "\n",
    "ca_housing = pd.read_csv(\"data/housing.csv\")\n",
    "\n",
    "ca_housing.head()"
   ]
  },
  {
   "cell_type": "code",
   "execution_count": null,
   "metadata": {},
   "outputs": [],
   "source": [
    "# check the shape of the data\n",
    "ca_housing.shape"
   ]
  },
  {
   "cell_type": "code",
   "execution_count": null,
   "metadata": {},
   "outputs": [],
   "source": [
    "# check for missing values\n",
    "ca_housing.isna().sum()"
   ]
  },
  {
   "cell_type": "code",
   "execution_count": null,
   "metadata": {},
   "outputs": [],
   "source": [
    "# inspect median_house_value"
   ]
  },
  {
   "cell_type": "markdown",
   "metadata": {},
   "source": [
    "### Preparing the dataset \n",
    "\n",
    "For this homework, we only want to use a subset of data. \n",
    "\n",
    "First, keep only the records where `ocean_proximity` is either `'<1H OCEAN'` or `'INLAND'`\n",
    "\n",
    "Next, use only the following columns:\n",
    "\n",
    "* `'latitude'`,\n",
    "* `'longitude'`,\n",
    "* `'housing_median_age'`,\n",
    "* `'total_rooms'`,\n",
    "* `'total_bedrooms'`,\n",
    "* `'population'`,\n",
    "* `'households'`,\n",
    "* `'median_income'`,\n",
    "* `'median_house_value'`"
   ]
  },
  {
   "cell_type": "code",
   "execution_count": 6,
   "metadata": {},
   "outputs": [
    {
     "data": {
      "text/html": [
       "<div>\n",
       "<style scoped>\n",
       "    .dataframe tbody tr th:only-of-type {\n",
       "        vertical-align: middle;\n",
       "    }\n",
       "\n",
       "    .dataframe tbody tr th {\n",
       "        vertical-align: top;\n",
       "    }\n",
       "\n",
       "    .dataframe thead th {\n",
       "        text-align: right;\n",
       "    }\n",
       "</style>\n",
       "<table border=\"1\" class=\"dataframe\">\n",
       "  <thead>\n",
       "    <tr style=\"text-align: right;\">\n",
       "      <th></th>\n",
       "      <th>latitude</th>\n",
       "      <th>longitude</th>\n",
       "      <th>housing_median_age</th>\n",
       "      <th>total_rooms</th>\n",
       "      <th>total_bedrooms</th>\n",
       "      <th>population</th>\n",
       "      <th>households</th>\n",
       "      <th>median_income</th>\n",
       "      <th>median_house_value</th>\n",
       "    </tr>\n",
       "  </thead>\n",
       "  <tbody>\n",
       "    <tr>\n",
       "      <th>954</th>\n",
       "      <td>37.64</td>\n",
       "      <td>-121.92</td>\n",
       "      <td>46.0</td>\n",
       "      <td>1280.0</td>\n",
       "      <td>209.0</td>\n",
       "      <td>512.0</td>\n",
       "      <td>208.0</td>\n",
       "      <td>5.1406</td>\n",
       "      <td>315600.0</td>\n",
       "    </tr>\n",
       "    <tr>\n",
       "      <th>957</th>\n",
       "      <td>37.66</td>\n",
       "      <td>-121.90</td>\n",
       "      <td>18.0</td>\n",
       "      <td>7397.0</td>\n",
       "      <td>1137.0</td>\n",
       "      <td>3126.0</td>\n",
       "      <td>1115.0</td>\n",
       "      <td>6.4994</td>\n",
       "      <td>323000.0</td>\n",
       "    </tr>\n",
       "    <tr>\n",
       "      <th>965</th>\n",
       "      <td>37.68</td>\n",
       "      <td>-121.88</td>\n",
       "      <td>23.0</td>\n",
       "      <td>2234.0</td>\n",
       "      <td>270.0</td>\n",
       "      <td>854.0</td>\n",
       "      <td>286.0</td>\n",
       "      <td>7.3330</td>\n",
       "      <td>337200.0</td>\n",
       "    </tr>\n",
       "    <tr>\n",
       "      <th>967</th>\n",
       "      <td>37.67</td>\n",
       "      <td>-121.88</td>\n",
       "      <td>16.0</td>\n",
       "      <td>4070.0</td>\n",
       "      <td>624.0</td>\n",
       "      <td>1543.0</td>\n",
       "      <td>577.0</td>\n",
       "      <td>6.5214</td>\n",
       "      <td>311500.0</td>\n",
       "    </tr>\n",
       "    <tr>\n",
       "      <th>968</th>\n",
       "      <td>37.67</td>\n",
       "      <td>-121.88</td>\n",
       "      <td>25.0</td>\n",
       "      <td>2244.0</td>\n",
       "      <td>301.0</td>\n",
       "      <td>937.0</td>\n",
       "      <td>324.0</td>\n",
       "      <td>6.4524</td>\n",
       "      <td>296900.0</td>\n",
       "    </tr>\n",
       "  </tbody>\n",
       "</table>\n",
       "</div>"
      ],
      "text/plain": [
       "     latitude  longitude  housing_median_age  total_rooms  total_bedrooms  \\\n",
       "954     37.64    -121.92                46.0       1280.0           209.0   \n",
       "957     37.66    -121.90                18.0       7397.0          1137.0   \n",
       "965     37.68    -121.88                23.0       2234.0           270.0   \n",
       "967     37.67    -121.88                16.0       4070.0           624.0   \n",
       "968     37.67    -121.88                25.0       2244.0           301.0   \n",
       "\n",
       "     population  households  median_income  median_house_value  \n",
       "954       512.0       208.0         5.1406            315600.0  \n",
       "957      3126.0      1115.0         6.4994            323000.0  \n",
       "965       854.0       286.0         7.3330            337200.0  \n",
       "967      1543.0       577.0         6.5214            311500.0  \n",
       "968       937.0       324.0         6.4524            296900.0  "
      ]
     },
     "execution_count": 6,
     "metadata": {},
     "output_type": "execute_result"
    }
   ],
   "source": [
    "subset_df =  ca_housing[(ca_housing['ocean_proximity'] == 'INLAND') | (ca_housing['ocean_proximity'] == '<1H OCEAN>' ) ][['latitude','longitude','housing_median_age','total_rooms','total_bedrooms','population','households', 'median_income','median_house_value']]\n",
    "\n",
    "subset_df.head()"
   ]
  },
  {
   "cell_type": "code",
   "execution_count": null,
   "metadata": {},
   "outputs": [],
   "source": []
  }
 ],
 "metadata": {
  "kernelspec": {
   "display_name": "venv",
   "language": "python",
   "name": "python3"
  },
  "language_info": {
   "codemirror_mode": {
    "name": "ipython",
    "version": 3
   },
   "file_extension": ".py",
   "mimetype": "text/x-python",
   "name": "python",
   "nbconvert_exporter": "python",
   "pygments_lexer": "ipython3",
   "version": "3.10.11"
  },
  "orig_nbformat": 4
 },
 "nbformat": 4,
 "nbformat_minor": 2
}
